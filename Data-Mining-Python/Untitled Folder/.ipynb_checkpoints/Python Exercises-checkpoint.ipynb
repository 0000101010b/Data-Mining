{
 "cells": [
  {
   "cell_type": "code",
   "execution_count": null,
   "metadata": {},
   "outputs": [],
   "source": [
    "#Python practice\n",
    "#exercise 1\n",
    "import datetime as dt\n",
    "from dateutil.relativedelta import relativedelta\n",
    "\n",
    "\n",
    "name = input(\"Enter your Name: \")\n",
    "dob_raw = input(\"Enter date of birth in YYYY-MM-DD : \")\n",
    "\n",
    "year, month, day = map(int, dob_raw. split('-'))\n",
    "\n",
    "dob = dt.date(year, month, day)\n",
    "today = dt.datetime.now().date()\n",
    "time_dif=relativedelta(dob, today)\n",
    "age = abs(time_dif.years)\n",
    "\n",
    "print(\"\\n\\nHello \"+ name+ \",\")\n",
    "print(\"You were born on \" + str(dob)+\".\")\n",
    "print (\"You have been alive for \"+ f'{abs((dob-today).days):,}' + \" days.\")\n",
    "print (\"So you are \"+ f'{age:,}' + \" years old then.\")\n",
    "print (\"\")\n"
   ]
  },
  {
   "cell_type": "code",
   "execution_count": null,
   "metadata": {},
   "outputs": [],
   "source": [
    "#Exercise 2\n",
    "n = int(input(\"Enter a number: \"))\n",
    "check =int(input(\"Enter check number :\"))\n",
    "\n",
    "if n % 2 == 0:\n",
    "    if n % 4 == 0 :\n",
    "        print (\"x4 multiple\")\n",
    "    print(\"Even\")\n",
    "else :\n",
    "    print(\"Odd\")\n",
    "\n",
    "if n % check == 0:\n",
    "    print (\"Multiple of \"+ str(check))\n",
    "else :\n",
    "    print (\"Not Multiple of \"+ str(check) )"
   ]
  },
  {
   "cell_type": "code",
   "execution_count": null,
   "metadata": {},
   "outputs": [],
   "source": [
    "#Exercise 3\n",
    "a = [1, 1, 2, 3, 5, 8, 13, 21, 34, 55, 89]\n",
    "\n",
    "result =[e for e in a if e < 5]\n",
    "print(result)\n",
    "\n",
    "num= int(input(\"Enter number: \"))\n",
    "result=[e for e in a if e < num]\n"
   ]
  },
  {
   "cell_type": "code",
   "execution_count": null,
   "metadata": {},
   "outputs": [],
   "source": [
    "#Exercise 4\n",
    "num=int(input(\"Enter Number: \"))\n",
    "\n",
    "[a for a in range(1,num) if num % a ==0]"
   ]
  },
  {
   "cell_type": "code",
   "execution_count": null,
   "metadata": {},
   "outputs": [],
   "source": [
    "#Excercise 5\n",
    "print(\"Part 1:\")\n",
    "a = [1, 1, 2, 3, 5, 8, 13, 21, 34, 55, 89]\n",
    "b = [1, 2, 3, 4, 5, 6, 7, 8, 9, 10, 11, 12, 13]\n",
    "\n",
    "result=[x for x in a for y in b if x == y]\n",
    "print(result)\n",
    "print(\"\\nPart 2:\")\n",
    "import random\n",
    "c = [random.randint(1,99) for i in range(0,random.randint(3,50))] \n",
    "d = [random.randint(1,99) for i in range(0,random.randint(3,50))] \n",
    "\n",
    "print (c)\n",
    "print (d)\n",
    "result=[x for x in c for y in d if x == y]\n",
    "print(str(result) +\"\\n\")"
   ]
  },
  {
   "cell_type": "code",
   "execution_count": null,
   "metadata": {},
   "outputs": [],
   "source": [
    "#Exercise 6 Palidrome\n",
    "t = input(\"Enter string: \")\n",
    "\n",
    "if t == t[::-1]:\n",
    "    print('Palindrome')\n",
    "else:\n",
    "    print('Not Palindrome')"
   ]
  },
  {
   "cell_type": "code",
   "execution_count": null,
   "metadata": {},
   "outputs": [],
   "source": [
    "#Exercise 7\n",
    "a = [1, 4, 9, 16, 25, 36, 49, 64, 81, 10]\n",
    "[x for x in a if x % 2 == 0]"
   ]
  },
  {
   "cell_type": "code",
   "execution_count": 7,
   "metadata": {},
   "outputs": [
    {
     "name": "stdout",
     "output_type": "stream",
     "text": [
      "Rock : 1 Scissors : 2 Paper : 3 \n",
      " Enter choice : 3\n",
      "Paper vs. Paper Draw !!!\n",
      "Rock : 1 Scissors : 2 Paper : 3 \n",
      " Enter choice : 3\n",
      "Paper vs. Paper Draw !!!\n",
      "Rock : 1 Scissors : 2 Paper : 3 \n",
      " Enter choice : 3\n",
      "Paper loses to Scissors\n"
     ]
    }
   ],
   "source": [
    "#Exercise 8 Rock Paper Scissors\n",
    "import random\n",
    "\n",
    "options=[\"Rock\",\"Scissors\",\"Paper\"]\n",
    "\n",
    "while True:\n",
    "    n= input(\"Rock : 1 Scissors : 2 Paper : 3 \\n Enter choice : \" )   \n",
    "    n= int(n)-1\n",
    "    AI_n = random.randint(0,2)\n",
    "    \n",
    "    if AI_n != n:\n",
    "        if options[(n+1)%3] == options[AI_n]:\n",
    "            print( options[n] + \" beats \" + options[AI_n])\n",
    "        else:\n",
    "            print(options[n] + \" loses to \" + options[AI_n])  \n",
    "        break;\n",
    "        \n",
    "    print(options[n] + \" vs. \" + options[AI_n] + \" Draw !!!\")"
   ]
  },
  {
   "cell_type": "code",
   "execution_count": 23,
   "metadata": {},
   "outputs": [
    {
     "name": "stdout",
     "output_type": "stream",
     "text": [
      "Enter Guess between 1-9: 5\n",
      "Correct!!! It was 5\n",
      "You took a single try.\n"
     ]
    }
   ],
   "source": [
    "#Exercise 9 \n",
    "rn=random.randint(1,9)\n",
    "guess=0\n",
    "while True:\n",
    "    guess=guess+1\n",
    "    n=int(input(\"Enter Guess between 1-9: \"))\n",
    "    if n > rn:\n",
    "        print (\"Too high\")\n",
    "    elif n < rn:\n",
    "        print (\"Too low\")\n",
    "    else:\n",
    "        print (\"Correct!!! It was \"+ str(rn))\n",
    "        if guess > 1:\n",
    "            print(\"You took \"+ str(guess) + \" attempts.\" )\n",
    "        else:\n",
    "            print(\"You took a single try.\" )\n",
    "        break;\n",
    "\n",
    "        "
   ]
  },
  {
   "cell_type": "code",
   "execution_count": 19,
   "metadata": {},
   "outputs": [
    {
     "name": "stdout",
     "output_type": "stream",
     "text": [
      "Enter a number :5\n",
      "prime\n"
     ]
    }
   ],
   "source": [
    "#Exercise 11 Prime number\n",
    "n=int(input(\"Enter a number :\"))\n",
    "if n == 1:\n",
    "    print (\"Not prime\")\n",
    "else:\n",
    "    div=[x for x in range(2,n) if n % x == 0]\n",
    "    if len(div) == 0:\n",
    "        print(\"prime\")\n",
    "    else:\n",
    "        print(\"not prime\")"
   ]
  },
  {
   "cell_type": "code",
   "execution_count": 27,
   "metadata": {},
   "outputs": [],
   "source": [
    "import random\n",
    "l = [random.randint(1,99) for i in range(0,random.randint(3,20))] \n",
    "ListEnd(l)\n",
    "def ListEnd(l):\n",
    "    return print(l\n",
    "ListEnd(l)"
   ]
  },
  {
   "cell_type": "code",
   "execution_count": null,
   "metadata": {},
   "outputs": [],
   "source": []
  }
 ],
 "metadata": {
  "kernelspec": {
   "display_name": "Python 3",
   "language": "python",
   "name": "python3"
  },
  "language_info": {
   "codemirror_mode": {
    "name": "ipython",
    "version": 3
   },
   "file_extension": ".py",
   "mimetype": "text/x-python",
   "name": "python",
   "nbconvert_exporter": "python",
   "pygments_lexer": "ipython3",
   "version": "3.8.5"
  }
 },
 "nbformat": 4,
 "nbformat_minor": 4
}
