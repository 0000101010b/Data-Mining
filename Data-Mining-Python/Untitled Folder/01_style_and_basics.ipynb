{
 "cells": [
  {
   "cell_type": "code",
   "execution_count": null,
   "metadata": {},
   "outputs": [],
   "source": [
    "class FooClass:...\n",
    "    \n",
    "def test_sep():..."
   ]
  },
  {
   "cell_type": "code",
   "execution_count": null,
   "metadata": {},
   "outputs": [],
   "source": [
    "# local variable\n",
    "var = \"lowercase\"\n",
    "\n",
    "# internal use\n",
    "_var = \"_single_leading_underscore\"\n",
    "\n",
    "# avoid conflicts with Python keyword\n",
    "var_ = \"single_trailing_underscore_\"\n",
    "\n",
    "# a class attribute (private use in class)\n",
    "__var = \" __double_leading_underscore\"\n",
    "\n",
    "# \"magic\" objects or attributes, ex: __init__\n",
    "__name__\n",
    "\n",
    "# throwaway variable, ex: _, v = (1, 2)\n",
    "_ = \"throwaway\""
   ]
  },
  {
   "cell_type": "code",
   "execution_count": 51,
   "metadata": {},
   "outputs": [
    {
     "name": "stdout",
     "output_type": "stream",
     "text": [
      "Hello world!\n",
      "3.8.5 (default, Sep  3 2020, 21:29:08) [MSC v.1916 64 bit (AMD64)]\n"
     ]
    },
    {
     "data": {
      "text/plain": [
       "True"
      ]
     },
     "execution_count": 51,
     "metadata": {},
     "output_type": "execute_result"
    }
   ],
   "source": [
    "print(\"Hello world!\")\n",
    "import __hello__\n",
    "import __phello__\n",
    "import __phello__.spam\n",
    "import sys\n",
    "print(sys.version) \n",
    "sys.version_info >= (3, 7)\n",
    "\n"
   ]
  },
  {
   "cell_type": "code",
   "execution_count": 52,
   "metadata": {},
   "outputs": [
    {
     "data": {
      "text/plain": [
       "'3.8.5'"
      ]
     },
     "execution_count": 52,
     "metadata": {},
     "output_type": "execute_result"
    }
   ],
   "source": [
    "import platform\n",
    "platform.python_version()"
   ]
  },
  {
   "cell_type": "code",
   "execution_count": 53,
   "metadata": {},
   "outputs": [
    {
     "data": {
      "text/plain": [
       "ellipsis"
      ]
     },
     "execution_count": 53,
     "metadata": {},
     "output_type": "execute_result"
    }
   ],
   "source": [
    "... == Ellipsis\n",
    "type(...)"
   ]
  },
  {
   "cell_type": "code",
   "execution_count": null,
   "metadata": {},
   "outputs": [],
   "source": [
    "import random\n",
    "num = random.randint(0, 10)\n",
    "\n",
    "if  num < 3:\n",
    "    print(\"less than 3\")\n",
    "elif num < 5:\n",
    "    print(\"less than 5\")\n",
    "else:\n",
    "    print(num)\n",
    "    \n"
   ]
  },
  {
   "cell_type": "code",
   "execution_count": null,
   "metadata": {},
   "outputs": [],
   "source": [
    "a=[random.randint(1,50) for x in range(50)]\n",
    "for _ in range(5):\n",
    "    pass\n",
    "else:\n",
    "    print(\"no break\")"
   ]
  },
  {
   "cell_type": "code",
   "execution_count": null,
   "metadata": {},
   "outputs": [],
   "source": [
    "sys.getsizeof(range(100000000))"
   ]
  },
  {
   "cell_type": "code",
   "execution_count": null,
   "metadata": {},
   "outputs": [],
   "source": [
    "sys.getsizeof(xrange(100000000))"
   ]
  },
  {
   "cell_type": "code",
   "execution_count": null,
   "metadata": {},
   "outputs": [],
   "source": [
    "n = 0\n",
    "while n < 5:\n",
    "    if n == 3:\n",
    "        break\n",
    "    n += 1\n",
    "else:\n",
    "    print(\"no break\")\n",
    "    \n",
    "print (\"test\")"
   ]
  },
  {
   "cell_type": "code",
   "execution_count": 2,
   "metadata": {},
   "outputs": [
    {
     "name": "stdout",
     "output_type": "stream",
     "text": [
      "5\n"
     ]
    }
   ],
   "source": [
    "n=0 \n",
    "while True:\n",
    "    n += 1\n",
    "    if n == 5:\n",
    "        break\n",
    "print(n)"
   ]
  },
  {
   "cell_type": "code",
   "execution_count": 3,
   "metadata": {},
   "outputs": [
    {
     "name": "stdout",
     "output_type": "stream",
     "text": [
      "No exception\n",
      "Success\n"
     ]
    }
   ],
   "source": [
    "try:\n",
    "    print(\"No exception\")\n",
    "except:\n",
    "     pass\n",
    "else:\n",
    "    print(\"Success\")"
   ]
  },
  {
   "cell_type": "code",
   "execution_count": 8,
   "metadata": {},
   "outputs": [
    {
     "data": {
      "text/plain": [
       "'bello'"
      ]
     },
     "execution_count": 8,
     "metadata": {},
     "output_type": "execute_result"
    }
   ],
   "source": [
    "a = \"hello\"\n",
    "#a[1]='t'\n",
    "a=list(a)\n",
    "a\n",
    "a[0],a[4]= 'b', 'o'\n",
    "''.join(a)"
   ]
  },
  {
   "cell_type": "code",
   "execution_count": 9,
   "metadata": {},
   "outputs": [
    {
     "data": {
      "text/plain": [
       "[0, 2, 3, 4, 5, 0, 1, 2]"
      ]
     },
     "execution_count": 9,
     "metadata": {},
     "output_type": "execute_result"
    }
   ],
   "source": [
    "#lists\n",
    "a = [1, 2, 3, 4, 5]\n",
    "a[-1]                     # negative index\n",
    "a[1:]                     # slicing\n",
    "a[1:-1]\n",
    "a[1:-1:2]\n",
    "a[::-1]                   # reverse\n",
    "a[0] = 0                  # set an item\n",
    "a.append(6)               # append an item\n",
    "del a[-1]                 # del an item\n",
    "b = [x for x in range(3)] # list comprehension\n",
    "a + b                     # add two lists"
   ]
  },
  {
   "cell_type": "code",
   "execution_count": 41,
   "metadata": {},
   "outputs": [
    {
     "data": {
      "text/plain": [
       "dict_values(['yellow', 'green'])"
      ]
     },
     "execution_count": 41,
     "metadata": {},
     "output_type": "execute_result"
    }
   ],
   "source": [
    "d = {'timmy': 'red', 'barry': 'green', 'guido': 'blue'}\n",
    "d['timmy'] = \"yellow\"        # set data\n",
    "del d['guido']               # del data\n",
    "'guido' in d                 # contain data\n",
    "{k: v for k ,v in d.items()} # dict comprehension\n",
    "d.keys()                     # list all keys\n",
    "d.values()                   # list all values"
   ]
  },
  {
   "cell_type": "code",
   "execution_count": 12,
   "metadata": {},
   "outputs": [],
   "source": [
    "def foo_with_doc():\n",
    "    \"\"\"Documentation String.\"\"\"\n",
    "def foo_with_arg(arg): ...\n",
    "def foo_with_args(*arg): ...\n",
    "def foo_with_kwarg(a, b=\"foo\"): ...\n",
    "def foo_with_args_kwargs(*args, **kwargs): ...\n",
    "def foo_with_kwonly(a, b, *, k): ...           # python3\n",
    "def foo_with_annotations(a: int) -> int: ...   # python3"
   ]
  },
  {
   "cell_type": "code",
   "execution_count": 42,
   "metadata": {},
   "outputs": [
    {
     "data": {
      "text/plain": [
       "55"
      ]
     },
     "execution_count": 42,
     "metadata": {},
     "output_type": "execute_result"
    }
   ],
   "source": [
    "def fib(n: int) -> int:\n",
    "    a,b = 0,1\n",
    "    for _ in range(n):\n",
    "        b,a = a+b,b\n",
    "    return a\n",
    "\n",
    "fib(10)"
   ]
  },
  {
   "cell_type": "code",
   "execution_count": 46,
   "metadata": {},
   "outputs": [],
   "source": [
    "def fib(n):\n",
    "    a,b =0,1\n",
    "    for _ in  range(n):\n",
    "        yield a\n",
    "        b, a =a +b, b"
   ]
  },
  {
   "cell_type": "code",
   "execution_count": 47,
   "metadata": {},
   "outputs": [
    {
     "name": "stdout",
     "output_type": "stream",
     "text": [
      "0\n",
      "1\n",
      "1\n",
      "2\n",
      "3\n",
      "5\n",
      "8\n",
      "13\n",
      "21\n",
      "34\n",
      "55\n",
      "89\n",
      "144\n",
      "233\n",
      "377\n",
      "610\n",
      "987\n",
      "1597\n",
      "2584\n",
      "4181\n"
     ]
    }
   ],
   "source": [
    "for f in fib(20):\n",
    "    print(f)"
   ]
  },
  {
   "cell_type": "code",
   "execution_count": 48,
   "metadata": {},
   "outputs": [
    {
     "data": {
      "text/plain": [
       "[0, 1, 1, 2, 3, 5, 8, 13, 21, 34]"
      ]
     },
     "execution_count": 48,
     "metadata": {},
     "output_type": "execute_result"
    }
   ],
   "source": [
    " def fibonacci(n):\n",
    "    yield from fib(n)\n",
    "    \n",
    "[f for f in fibonacci(10)]"
   ]
  },
  {
   "cell_type": "code",
   "execution_count": 43,
   "metadata": {},
   "outputs": [
    {
     "name": "stderr",
     "output_type": "stream",
     "text": [
      "<string>:1: RuntimeWarning: coroutine 'main' was never awaited\n",
      "RuntimeWarning: Enable tracemalloc to get the object allocation traceback\n"
     ]
    }
   ],
   "source": [
    "class A: ...\n",
    "class B: ...\n",
    "class Foo(A, B):\n",
    "    \"\"\"A class document.\"\"\"\n",
    "\n",
    "    foo = \"class variable\"\n",
    "\n",
    "    def __init__(self, v):\n",
    "        self.attr = v\n",
    "        self.__private = \"private var\"\n",
    "\n",
    "    @staticmethod\n",
    "    def bar_static_method(): ...\n",
    "\n",
    "    @classmethod\n",
    "    def bar_class_method(cls): ...\n",
    "\n",
    "    def bar(self):\n",
    "        \"\"\"A method document.\"\"\"\n",
    "\n",
    "    def bar_with_arg(self, arg): ...\n",
    "    def bar_with_args(self, *args): ...\n",
    "    def bar_with_kwarg(self, kwarg=\"bar\"): ...\n",
    "    def bar_with_args_kwargs(self, *args, **kwargs): ...\n",
    "    def bar_with_kwonly(self, *, k): ...\n",
    "    def bar_with_annotations(self, a: int): ..."
   ]
  },
  {
   "cell_type": "code",
   "execution_count": 36,
   "metadata": {},
   "outputs": [
    {
     "data": {
      "text/plain": [
       "'import asyncio\\n\\nasync def http_ok(r, w):\\n    head = b\"HTTP/1.1 200 OK\\r\\n\"\\n    head += b\"Content-Type: text/html\\r\\n\"\\n    head += b\"\\r\\n\"\\n\\n    body = b\"<html>\"\\n    body += b\"<body><h1>Hello world!</h1></body>\"\\n    body += b\"</html>\"\\n\\n    _ = await r.read(1024)\\n    w.write(head + body)\\n    await w.drain()\\n    w.close()\\n\\nasync def main():\\n    server = await asyncio.start_server(\\n        http_ok, \"127.0.0.1\", 8888\\n    )\\n\\n    async with server:\\n        await server.serve_forever()\\n\\nasyncio.run(main())\\n'"
      ]
     },
     "execution_count": 36,
     "metadata": {},
     "output_type": "execute_result"
    }
   ],
   "source": [
    "'''import asyncio\n",
    "\n",
    "async def http_ok(r, w):\n",
    "    head = b\"HTTP/1.1 200 OK\\r\\n\"\n",
    "    head += b\"Content-Type: text/html\\r\\n\"\n",
    "    head += b\"\\r\\n\"\n",
    "\n",
    "    body = b\"<html>\"\n",
    "    body += b\"<body><h1>Hello world!</h1></body>\"\n",
    "    body += b\"</html>\"\n",
    "\n",
    "    _ = await r.read(1024)\n",
    "    w.write(head + body)\n",
    "    await w.drain()\n",
    "    w.close()\n",
    "\n",
    "async def main():\n",
    "    server = await asyncio.start_server(\n",
    "        http_ok, \"127.0.0.1\", 8888\n",
    "    )\n",
    "\n",
    "    async with server:\n",
    "        await server.serve_forever()\n",
    "\n",
    "asyncio.run(main())\n",
    "''''"
   ]
  },
  {
   "cell_type": "code",
   "execution_count": 29,
   "metadata": {},
   "outputs": [
    {
     "name": "stdout",
     "output_type": "stream",
     "text": [
      "55\n"
     ]
    }
   ],
   "source": [
    " py = '''\n",
    "... def fib(n):\n",
    "...     a, b = 0, 1\n",
    "...     for _ in range(n):\n",
    "...         b, a = b + a, b\n",
    "...     return a\n",
    "... print(fib(10))\n",
    "... '''\n",
    ">>> exec(py, globals(), locals())"
   ]
  },
  {
   "cell_type": "code",
   "execution_count": null,
   "metadata": {},
   "outputs": [],
   "source": []
  }
 ],
 "metadata": {
  "kernelspec": {
   "display_name": "Python 3",
   "language": "python",
   "name": "python3"
  },
  "language_info": {
   "codemirror_mode": {
    "name": "ipython",
    "version": 3
   },
   "file_extension": ".py",
   "mimetype": "text/x-python",
   "name": "python",
   "nbconvert_exporter": "python",
   "pygments_lexer": "ipython3",
   "version": "3.8.5"
  }
 },
 "nbformat": 4,
 "nbformat_minor": 4
}
