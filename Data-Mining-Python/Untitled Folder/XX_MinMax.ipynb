{
 "cells": [
  {
   "cell_type": "code",
   "execution_count": 37,
   "metadata": {},
   "outputs": [
    {
     "data": {
      "text/plain": [
       "635"
      ]
     },
     "execution_count": 37,
     "metadata": {},
     "output_type": "execute_result"
    }
   ],
   "source": [
    "\"\"\"\n",
    "Min Max \n",
    "\"\"\"\n",
    "b=[22,54,43,65,4,56,56,57,58,56,85,68,11]\n",
    "\n",
    "def is_valid_block_size(A, max_block_count, max_block_size):\n",
    "    sum_ =0\n",
    "    count=0\n",
    "    \n",
    "    for e in A:\n",
    "        if sum_ + e > max_block_size:\n",
    "            sum_ = e\n",
    "            count +=1\n",
    "        else:\n",
    "            sum_ += e\n",
    "        if count >= max_block_count:\n",
    "            return False\n",
    "        \n",
    "    return True\n",
    "\n",
    "def binary_search(A, max_block_count):\n",
    "    min_max = max (A)\n",
    "    total_sum = sum (A)\n",
    "    \n",
    "    if max_block_count == 1:      return total_sum\n",
    "    if max_block_count >= len(A): return min_max\n",
    "    \n",
    "    while min_max <= total_sum:\n",
    "        mid= (min_max + total_sum) // 2\n",
    "        if is_valid_block_size(A,max_block_count,mid):\n",
    "            total_sum = mid - 1\n",
    "        else:\n",
    "            min_max = mid + 1       \n",
    "    return min_max\n",
    "\n",
    "\n",
    "binary_search(b,1)        \n",
    "        "
   ]
  },
  {
   "cell_type": "code",
   "execution_count": 4,
   "metadata": {},
   "outputs": [
    {
     "data": {
      "text/plain": [
       "4"
      ]
     },
     "execution_count": 4,
     "metadata": {},
     "output_type": "execute_result"
    }
   ],
   "source": [
    "'''\n",
    "1) Time complexity\n",
    "'''\n",
    "#frog jump\n",
    "def solution(X,Y,D):\n",
    "    if Y < X or D <= 0:\n",
    "        raise Exception(\"invalid parameters\")\n",
    "    \n",
    "    if (Y-X) % D == 0:\n",
    "        return (Y-X)// D\n",
    "    else:\n",
    "        return((Y-X)// D) + 1\n",
    "\n",
    "solution(0,20,6)    "
   ]
  },
  {
   "cell_type": "code",
   "execution_count": 7,
   "metadata": {},
   "outputs": [
    {
     "data": {
      "text/plain": [
       "3"
      ]
     },
     "execution_count": 7,
     "metadata": {},
     "output_type": "execute_result"
    }
   ],
   "source": [
    "#Permutation Missing Element\n",
    "def solution(A):\n",
    "    should_be = len(A) # you never see N+1 in the iteration\n",
    "    sum_is = 0\n",
    "    \n",
    "    for idx in range(len(A)):\n",
    "        sum_is += A[idx]\n",
    "        should_be += idx+1\n",
    "    \n",
    "    return should_be - sum_is +1\n",
    "    \n",
    "solution([1,2,4])"
   ]
  },
  {
   "cell_type": "code",
   "execution_count": 21,
   "metadata": {},
   "outputs": [
    {
     "name": "stdout",
     "output_type": "stream",
     "text": [
      "0 1 4\n",
      "1 2 4\n",
      "2 4 3\n"
     ]
    },
    {
     "data": {
      "text/plain": [
       "3"
      ]
     },
     "execution_count": 21,
     "metadata": {},
     "output_type": "execute_result"
    }
   ],
   "source": [
    "def solution(A):\n",
    "    missing_element = len(A)+1\n",
    "     \n",
    "    for idx,value in enumerate(A):\n",
    "        missing_element = missing_element ^ value ^ (idx+1)\n",
    "        print(str(idx) + \" \" + str(value) +\" \" + str(missing_element))\n",
    "    return missing_element\n",
    "solution([1,2,4])"
   ]
  },
  {
   "cell_type": "code",
   "execution_count": null,
   "metadata": {},
   "outputs": [],
   "source": [
    "'''\n",
    "Counting\n",
    "'''"
   ]
  },
  {
   "cell_type": "code",
   "execution_count": 23,
   "metadata": {},
   "outputs": [
    {
     "data": {
      "text/plain": [
       "0"
      ]
     },
     "execution_count": 23,
     "metadata": {},
     "output_type": "execute_result"
    }
   ],
   "source": [
    "#permutation check\n",
    "def solution(A):\n",
    "    seen = [False] * len(A)\n",
    "    \n",
    "    for value in A:\n",
    "        if 0 <= value > len(A):\n",
    "            return 0\n",
    "        if seen[value-1]==True:\n",
    "            return 0\n",
    "        seen[value-1]=True\n",
    "    return 1\n",
    "solution([1,2,3,4])\n",
    "solution([1,2,3,4,7])"
   ]
  },
  {
   "cell_type": "code",
   "execution_count": 30,
   "metadata": {},
   "outputs": [],
   "source": [
    "#Frog river one\n",
    "def solution(X, A):\n",
    "    passable = [False] * X\n",
    "    uncovered = X\n",
    "    \n",
    "    for idx in range(len(A)):\n",
    "        \n",
    "        if A[idx] <= 0 or A[idx] > X:\n",
    "            raise Exception(\"Invalid value\", A[idx])\n",
    "        \n",
    "        if passable[A[idx]-1] == False:\n",
    "            passable[A[idx]-1] = True\n",
    "            uncovered -= 1\n",
    "    \n",
    "            if uncovered == 0:\n",
    "                return idx\n",
    "    return -1"
   ]
  },
  {
   "cell_type": "code",
   "execution_count": 46,
   "metadata": {},
   "outputs": [
    {
     "data": {
      "text/plain": [
       "11"
      ]
     },
     "execution_count": 46,
     "metadata": {},
     "output_type": "execute_result"
    }
   ],
   "source": [
    "solution(9,[1,2,3,4,5,6,5,5,6,9,7,8,9])"
   ]
  },
  {
   "cell_type": "code",
   "execution_count": 54,
   "metadata": {},
   "outputs": [
    {
     "name": "stdout",
     "output_type": "stream",
     "text": [
      "[True, True, False, True, True, True, True, False, True, True]\n"
     ]
    },
    {
     "data": {
      "text/plain": [
       "3"
      ]
     },
     "execution_count": 54,
     "metadata": {},
     "output_type": "execute_result"
    }
   ],
   "source": [
    "#Min posible interger\n",
    "def solution(A):\n",
    "    seen = [False] * len(A)\n",
    "    \n",
    "    for value in A:\n",
    "        if 0 < value <= len(A):\n",
    "            seen[value-1]=True\n",
    "    print(seen)\n",
    "    for idx in range(len(seen)):\n",
    "        if seen[idx] == False:\n",
    "            return idx + 1\n",
    "\n",
    "    return len(A)+1\n",
    "\n",
    "solution([1,2,4,5,6,7,10,9,14,15])\n"
   ]
  },
  {
   "cell_type": "code",
   "execution_count": null,
   "metadata": {},
   "outputs": [],
   "source": [
    "'''\n",
    "Prefix Sums\n",
    "'''\n",
    "#passing cars\n"
   ]
  },
  {
   "cell_type": "code",
   "execution_count": null,
   "metadata": {},
   "outputs": [],
   "source": []
  }
 ],
 "metadata": {
  "kernelspec": {
   "display_name": "Python 3",
   "language": "python",
   "name": "python3"
  },
  "language_info": {
   "codemirror_mode": {
    "name": "ipython",
    "version": 3
   },
   "file_extension": ".py",
   "mimetype": "text/x-python",
   "name": "python",
   "nbconvert_exporter": "python",
   "pygments_lexer": "ipython3",
   "version": "3.8.5"
  }
 },
 "nbformat": 4,
 "nbformat_minor": 4
}
